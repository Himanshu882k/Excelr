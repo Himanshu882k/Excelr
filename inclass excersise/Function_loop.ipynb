{
 "cells": [
  {
   "cell_type": "code",
   "execution_count": 23,
   "id": "e4ecd0d1",
   "metadata": {},
   "outputs": [
    {
     "name": "stdout",
     "output_type": "stream",
     "text": [
      "Amanda\n",
      "Alice joe\n"
     ]
    }
   ],
   "source": [
    "names = ['Amanda',  'Alice joe', 'Raj']\n",
    "for i in names:\n",
    "    if i.startswith('A'):\n",
    "        print(i)\n",
    "        "
   ]
  },
  {
   "cell_type": "code",
   "execution_count": 10,
   "id": "3a4e86d1",
   "metadata": {},
   "outputs": [
    {
     "name": "stdout",
     "output_type": "stream",
     "text": [
      "[6, 7, 8, 9, 10, 11]\n"
     ]
    }
   ],
   "source": [
    "nums = [1,2,3,4,5,6]\n",
    "num1 = [num+5 for num in nums if num>0]\n",
    "print(num1)"
   ]
  },
  {
   "cell_type": "code",
   "execution_count": 19,
   "id": "3281dd51",
   "metadata": {},
   "outputs": [
    {
     "name": "stdout",
     "output_type": "stream",
     "text": [
      "[158, 77, 88, 135]\n"
     ]
    }
   ],
   "source": [
    "marks = [55, 45, 158, 77, 88, 49, 135, 35]\n",
    "result = [mark for mark in marks if mark >75]\n",
    "print(result)"
   ]
  },
  {
   "cell_type": "code",
   "execution_count": 7,
   "id": "b8d7c444",
   "metadata": {},
   "outputs": [
    {
     "data": {
      "text/plain": [
       "['Amanda', 'Alice joe']"
      ]
     },
     "execution_count": 7,
     "metadata": {},
     "output_type": "execute_result"
    }
   ],
   "source": [
    "names = ['Amanda',  'Alice joe', 'Raj']\n",
    "[i for i in names if i.startswith('A')]"
   ]
  },
  {
   "cell_type": "code",
   "execution_count": null,
   "id": "b8d68718",
   "metadata": {},
   "outputs": [],
   "source": []
  }
 ],
 "metadata": {
  "kernelspec": {
   "display_name": "Python 3 (ipykernel)",
   "language": "python",
   "name": "python3"
  },
  "language_info": {
   "codemirror_mode": {
    "name": "ipython",
    "version": 3
   },
   "file_extension": ".py",
   "mimetype": "text/x-python",
   "name": "python",
   "nbconvert_exporter": "python",
   "pygments_lexer": "ipython3",
   "version": "3.9.13"
  }
 },
 "nbformat": 4,
 "nbformat_minor": 5
}
