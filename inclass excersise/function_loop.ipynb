{
 "cells": [
  {
   "cell_type": "code",
   "execution_count": 13,
   "id": "ae5bdc99",
   "metadata": {},
   "outputs": [
    {
     "name": "stdout",
     "output_type": "stream",
     "text": [
      "Amanda\n",
      "Alice joe\n"
     ]
    }
   ],
   "source": [
    "names = ['Amanda',  'Alice joe', 'Raj']\n",
    "for i in names:\n",
    "    if i.startswith('A'):\n",
    "        print(i)\n",
    "        "
   ]
  },
  {
   "cell_type": "code",
   "execution_count": 10,
   "id": "a00b163a",
   "metadata": {},
   "outputs": [
    {
     "name": "stdout",
     "output_type": "stream",
     "text": [
      "6\n",
      "7\n",
      "8\n",
      "9\n",
      "10\n",
      "11\n"
     ]
    }
   ],
   "source": [
    "nums = [1,2,3,4,5,6]\n",
    "for i in nums:\n",
    "    j= i+5\n",
    "    print(j)"
   ]
  },
  {
   "cell_type": "code",
   "execution_count": 20,
   "id": "a90e9bb8",
   "metadata": {},
   "outputs": [
    {
     "name": "stdout",
     "output_type": "stream",
     "text": [
      "158\n",
      "77\n",
      "88\n",
      "135\n"
     ]
    }
   ],
   "source": [
    "marks = [55,45,158,77,88,49,135,35]\n",
    "for marks in marks:\n",
    "    if marks > 75:\n",
    "        print(marks)"
   ]
  },
  {
   "cell_type": "code",
   "execution_count": null,
   "id": "2077d9c6",
   "metadata": {},
   "outputs": [],
   "source": []
  }
 ],
 "metadata": {
  "kernelspec": {
   "display_name": "Python 3 (ipykernel)",
   "language": "python",
   "name": "python3"
  },
  "language_info": {
   "codemirror_mode": {
    "name": "ipython",
    "version": 3
   },
   "file_extension": ".py",
   "mimetype": "text/x-python",
   "name": "python",
   "nbconvert_exporter": "python",
   "pygments_lexer": "ipython3",
   "version": "3.9.13"
  }
 },
 "nbformat": 4,
 "nbformat_minor": 5
}
