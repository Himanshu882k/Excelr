{
 "cells": [
  {
   "cell_type": "code",
   "execution_count": 7,
   "id": "22f3ef51",
   "metadata": {},
   "outputs": [
    {
     "name": "stdout",
     "output_type": "stream",
     "text": [
      "Enter the runs99\n",
      "You need  1 more runs\n"
     ]
    }
   ],
   "source": [
    "Runs = int(input('Enter the runs'))\n",
    "if Runs >= 100:\n",
    "    print(\"It's an century\")\n",
    "else:\n",
    "    print('You need ',  100 - Runs,  'more runs')"
   ]
  },
  {
   "cell_type": "code",
   "execution_count": 17,
   "id": "d2c426e7",
   "metadata": {},
   "outputs": [
    {
     "name": "stdout",
     "output_type": "stream",
     "text": [
      "Enter the number: 0\n",
      "It's  1 digit number\n"
     ]
    }
   ],
   "source": [
    "num = input('Enter the number: ')\n",
    "print (\"It's \",len(num),\"digit number\")"
   ]
  },
  {
   "cell_type": "code",
   "execution_count": 14,
   "id": "5ce4d448",
   "metadata": {},
   "outputs": [
    {
     "name": "stdout",
     "output_type": "stream",
     "text": [
      "Enter a number99\n",
      "Number matched\n"
     ]
    }
   ],
   "source": [
    "user = int(input(\"Enter a number\"))\n",
    "if user == 99:\n",
    "    print(\"Number matched\")\n",
    "else:\n",
    "    print('Enter a new number')"
   ]
  },
  {
   "cell_type": "code",
   "execution_count": null,
   "id": "ffed0fdb",
   "metadata": {},
   "outputs": [],
   "source": []
  }
 ],
 "metadata": {
  "kernelspec": {
   "display_name": "Python 3 (ipykernel)",
   "language": "python",
   "name": "python3"
  },
  "language_info": {
   "codemirror_mode": {
    "name": "ipython",
    "version": 3
   },
   "file_extension": ".py",
   "mimetype": "text/x-python",
   "name": "python",
   "nbconvert_exporter": "python",
   "pygments_lexer": "ipython3",
   "version": "3.9.13"
  }
 },
 "nbformat": 4,
 "nbformat_minor": 5
}
